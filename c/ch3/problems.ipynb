{
 "cells": [
  {
   "cell_type": "markdown",
   "id": "8dee53e5-1e41-442f-b960-1da73398ddc1",
   "metadata": {},
   "source": [
    "## Problem 1\n",
    "\n",
    "Wrote a new 1D solver. I had two issues intially, I didn't change `MatSetVecStencil` to `MatSetValues` and I had a sign error in the b vector. I had to look up the issue with the solution."
   ]
  },
  {
   "cell_type": "code",
   "execution_count": 1,
   "id": "79427948-543e-49ba-bd1e-b892b2ecdd74",
   "metadata": {},
   "outputs": [
    {
     "name": "stdout",
     "output_type": "stream",
     "text": [
      "on 9 grid:  error |u-uexact|_inf = 0.00390625\n",
      "on 17 grid:  error |u-uexact|_inf = 0.000976563\n",
      "on 33 grid:  error |u-uexact|_inf = 0.000244141\n",
      "on 65 grid:  error |u-uexact|_inf = 6.10352e-05\n",
      "on 129 grid:  error |u-uexact|_inf = 1.52588e-05\n",
      "on 257 grid:  error |u-uexact|_inf = 3.8147e-06\n",
      "on 513 grid:  error |u-uexact|_inf = 9.53674e-07\n"
     ]
    }
   ],
   "source": [
    "!for K in 0 1 2 3 4 5 6; do ./poisson1D -da_refine $K; done"
   ]
  },
  {
   "cell_type": "code",
   "execution_count": 4,
   "id": "3159fea8-c4b9-4c9a-88e3-329e0272c11d",
   "metadata": {},
   "outputs": [
    {
     "data": {
      "text/plain": [
       "<matplotlib.legend.Legend at 0x7fff115612d0>"
      ]
     },
     "execution_count": 4,
     "metadata": {},
     "output_type": "execute_result"
    },
    {
     "data": {
      "image/png": "[encoded data removed]",
      "text/plain": [
       "<Figure size 640x480 with 1 Axes>"
      ]
     },
     "metadata": {},
     "output_type": "display_data"
    }
   ],
   "source": [
    "import numpy as np\n",
    "import matplotlib.pyplot as plt\n",
    "\n",
    "\n",
    "N = np.array([9, 17, 33, 65, 129, 257, 513], dtype=float)\n",
    "error = np.array([0.00390625, 0.000976563, 0.000244141, 6.10352e-5, 1.52588e-05, 3.8147e-06, 9.53674e-07])\n",
    "h = 1. / N\n",
    "\n",
    "plt.loglog(h, error, label='actual')\n",
    "plt.loglog(h, h**2, label='O(h^2)')\n",
    "plt.legend()"
   ]
  },
  {
   "cell_type": "code",
   "execution_count": 22,
   "id": "3014366a-bea0-4af3-abc9-28e1c7d4dad6",
   "metadata": {},
   "outputs": [
    {
     "name": "stdout",
     "output_type": "stream",
     "text": [
      "on 262145 grid:  error |u-uexact|_inf = 3.84406e-12\n"
     ]
    }
   ],
   "source": [
    "!./poisson1D -da_refine 15 -ksp_rtol 1.0e-13"
   ]
  },
  {
   "cell_type": "markdown",
   "id": "1ff76e19-e925-49a5-a5d1-6dd4716fcd3a",
   "metadata": {},
   "source": [
    "Needs to be refined 15 times to reach desired accuracy (11 sig figs)"
   ]
  },
  {
   "cell_type": "markdown",
   "id": "453f093f-9183-4407-ba46-31b9cfa2bd78",
   "metadata": {},
   "source": [
    "## Problem 2"
   ]
  },
  {
   "cell_type": "code",
   "execution_count": 23,
   "id": "06785ff2-8bee-4b03-86e8-4fd3573ee787",
   "metadata": {},
   "outputs": [
    {
     "name": "stdout",
     "output_type": "stream",
     "text": [
      "The history saving thread hit an unexpected error (OperationalError('attempt to write a readonly database')).History will not be written to the database.\n",
      "on 9 x 9 grid:  error |u-uexact|_inf = 1.8735e-16\n",
      "on 17 x 17 grid:  error |u-uexact|_inf = 9.71445e-16\n",
      "on 33 x 33 grid:  error |u-uexact|_inf = 4.85029e-15\n",
      "on 65 x 65 grid:  error |u-uexact|_inf = 2.66454e-15\n",
      "on 129 x 129 grid:  error |u-uexact|_inf = 4.89192e-15\n",
      "on 257 x 257 grid:  error |u-uexact|_inf = 7.52176e-15\n",
      "on 513 x 513 grid:  error |u-uexact|_inf = 6.74114e-14\n"
     ]
    }
   ],
   "source": [
    "!for K in 0 1 2 3 4 5 6; do ./poisson_modify -da_refine $K -ksp_rtol 1.0e-13; done"
   ]
  },
  {
   "cell_type": "markdown",
   "id": "c05dc877-8de0-4166-a024-6fd56772caaa",
   "metadata": {},
   "source": [
    "Totally accuracy from the first grid"
   ]
  },
  {
   "cell_type": "markdown",
   "id": "3b6862ae-60e9-47a9-9dd0-2036f8b35dee",
   "metadata": {},
   "source": [
    "Another way to think about this is in terms of a flux in a FV schema. The approximated flux is perfectly approximated when the solution is at the exact solution (as the flux is only linearly dependent on the spatial position so the difference gives the exact flux). The solution will natuarlly converge to the exact solution quickly.\n",
    "\n",
    "e.g. if $u = x^2$\n",
    "\n",
    "$((x + dx)^2 - (x - dx)^2) / 2 / dx$ which equals $2 x$"
   ]
  },
  {
   "cell_type": "code",
   "execution_count": 25,
   "id": "f7b8c0a5-80f7-4122-8687-001daa3a3ac8",
   "metadata": {},
   "outputs": [
    {
     "name": "stdout",
     "output_type": "stream",
     "text": [
      "  0 KSP Residual norm 1.029622842940e-01 \n",
      "  1 KSP Residual norm 1.703672925481e-02 \n",
      "  2 KSP Residual norm 2.237035700617e-03 \n",
      "  3 KSP Residual norm 2.448470217722e-04 \n",
      "  4 KSP Residual norm 2.464643527576e-05 \n",
      "  5 KSP Residual norm 5.355098945648e-06 \n",
      "  6 KSP Residual norm 4.916669726533e-07 \n",
      "  7 KSP Residual norm 4.288476133651e-08 \n",
      "  8 KSP Residual norm 3.692323124120e-09 \n",
      "  9 KSP Residual norm 2.104937129225e-10 \n",
      " 10 KSP Residual norm 2.384259671169e-11 \n",
      " 11 KSP Residual norm 2.078027469864e-12 \n",
      " 12 KSP Residual norm 1.100253927462e-13 \n",
      " 13 KSP Residual norm 1.032007747618e-14 \n",
      " 14 KSP Residual norm 4.430080957291e-16 \n",
      "on 9 x 9 grid:  error |u-uexact|_inf = 1.8735e-16\n"
     ]
    }
   ],
   "source": [
    "!./poisson_modify -ksp_rtol 1.0e-13 -ksp_monitor"
   ]
  },
  {
   "cell_type": "markdown",
   "id": "00a06904-374c-4ed6-81c0-cff2d6807dff",
   "metadata": {},
   "source": [
    "## Problem 3\n",
    "\n",
    "Works, here's the main loop that changes (also exact solution changed on one line).\n",
    "\n",
    "```c\n",
    "    for (j=info.ys; j<info.ys+info.ym; j++) {\n",
    "        y = j * hy;\n",
    "        for (i=info.xs; i<info.xs+info.xm; i++) {\n",
    "            x = i * hx;\n",
    "            if (i==0 || i==info.mx-1 || j==0 || j==info.my-1) {\n",
    "\t      u = 3.0 * x + sin(20.0 * x * y);\n",
    "\t      ab[j][i] = u;  // on boundary: 1*u = 0\n",
    "            } else {\n",
    "\t      f = 400.0 * (x * x + y * y) * sin(20.0 * x * y);\n",
    "\t      ab[j][i] = hx * hy * f;\n",
    "\n",
    "\t      if (i == 1) {\n",
    "\t\tx_ = x - hx;\n",
    "\t\ty_ = y;\n",
    "\t\tu = 3.0 * x_ + sin(20.0 * x_ * y_);\n",
    "\t\tab[j][i] = ab[j][i] + hy * u / hx;\t\t\n",
    "\t      }\n",
    "\t      if (i == info.mx - 2) {\n",
    "\t\tx_ = x + hx;\n",
    "\t\ty_ = y;\n",
    "\t\tu = 3.0 * x_ + sin(20.0 * x_ * y_);\n",
    "\t\tab[j][i] = ab[j][i] + hy * u / hx;\t\t\n",
    "\t      }\n",
    "\t      if (j == 1) {\n",
    "\t\tx_ = x;\n",
    "\t\ty_ = y - hy;\n",
    "\t\tu = 3.0 * x_ + sin(20.0 * x_ * y_);\n",
    "\t\tab[j][i] = ab[j][i] + hx * u / hy;\n",
    "\t      }\n",
    "\t      if (j == info.my - 2) {\n",
    "\t\tx_ = x;\n",
    "\t\ty_ = y + hy;\n",
    "\t\tu = 3.0 * x_ + sin(20.0 * x_ * y_);\n",
    "\t\tab[j][i] = ab[j][i] + hx * u / hy;\n",
    "\t      }\n",
    "            }\n",
    "    \n",
    "        }\n",
    "    }\n",
    "\n",
    "```\n",
    "\n",
    "and here are the numbers for \n",
    "\n",
    "```\n",
    "(nix)[wd15@pippi:~/git/p4pdes/c/ch3](wd15)$ for K in 0 1 2 3 4 5; do ./poisson_dirichlet -da_refine $K -ksp_rtol 1.0e-13; done\n",
    "on 9 x 9 grid:  error |u-uexact|_inf = 0.449932\n",
    "on 17 x 17 grid:  error |u-uexact|_inf = 0.118471\n",
    "on 33 x 33 grid:  error |u-uexact|_inf = 0.0279736\n",
    "on 65 x 65 grid:  error |u-uexact|_inf = 0.00686974\n",
    "on 129 x 129 grid:  error |u-uexact|_inf = 0.00170982\n",
    "on 257 x 257 grid:  error |u-uexact|_inf = 0.000427765\n",
    "```\n",
    "\n",
    "looks good!"
   ]
  },
  {
   "cell_type": "code",
   "execution_count": 29,
   "id": "10f2670b-2987-4ef5-bba6-35a59d088ab6",
   "metadata": {},
   "outputs": [
    {
     "data": {
      "text/plain": [
       "<matplotlib.legend.Legend at 0x7fff0d11e7d0>"
      ]
     },
     "execution_count": 29,
     "metadata": {},
     "output_type": "execute_result"
    },
    {
     "data": {
      "image/png": "[encoded data removed]",
      "text/plain": [
       "<Figure size 640x480 with 1 Axes>"
      ]
     },
     "metadata": {},
     "output_type": "display_data"
    }
   ],
   "source": [
    "import numpy as np\n",
    "import matplotlib.pyplot as plt\n",
    "\n",
    "\n",
    "N = np.array([9, 17, 33, 65, 129, 257, 513], dtype=float)\n",
    "error = np.array([0.449932, 0.118471, 0.0279736, 0.00686974, 0.00170982, 0.000427765,0.000106915])\n",
    "h = 1. / N\n",
    "\n",
    "plt.loglog(h, error, label='actual')\n",
    "plt.loglog(h, h**2, label='O(h^2)')\n",
    "plt.legend()"
   ]
  },
  {
   "cell_type": "markdown",
   "id": "07ac1c54-35ba-4b78-a0e2-0be3cdff0af0",
   "metadata": {},
   "source": [
    "## Problem 4\n",
    "\n",
    "The matrix has already been scaled and the diagonal doesn't vary very much.\n"
   ]
  },
  {
   "cell_type": "markdown",
   "id": "feaab33c-621b-480b-b1a2-59a3f7b169bf",
   "metadata": {},
   "source": [
    "## Problem 5\n",
    "\n",
    "Event counts:\n",
    "\n",
    "```\n",
    "Event              Count\n",
    "\n",
    "BuildTwoSided          1 1.0 1.3379e-05 1.0 0.00e+00 0.0 0.0e+00 0.0e+00 0.0e+00  0  0  0  0  0   0  0  0  0  0     0\n",
    "DMCreateMat            1 1.0 2.8362e-04 1.0 0.00e+00 0.0 0.0e+00 0.0e+00 0.0e+00  5  0  0  0  0   5  0  0  0  0     0\n",
    "SFSetGraph             1 1.0 1.2699e-05 1.0 0.00e+00 0.0 0.0e+00 0.0e+00 0.0e+00  0  0  0  0  0   0  0  0  0  0     0\n",
    "SFSetUp                1 1.0 5.8771e-05 1.0 0.00e+00 0.0 0.0e+00 0.0e+00 0.0e+00  1  0  0  0  0   1  0  0  0  0     0\n",
    "VecTDot               36 1.0 2.4509e-05 1.0 5.80e+03 1.0 0.0e+00 0.0e+00 0.0e+00  0 21  0  0  0   0 21  0  0  0   236\n",
    "VecNorm               19 1.0 1.7940e-05 1.0 2.90e+03 1.0 0.0e+00 0.0e+00 0.0e+00  0 10  0  0  0   0 10  0  0  0   162\n",
    "VecCopy               20 1.0 1.4083e-05 1.0 0.00e+00 0.0 0.0e+00 0.0e+00 0.0e+00  0  0  0  0  0   0  0  0  0  0     0\n",
    "VecSet                 1 1.0 3.0280e-06 1.0 0.00e+00 0.0 0.0e+00 0.0e+00 0.0e+00  0  0  0  0  0   0  0  0  0  0     0\n",
    "VecAXPY               35 1.0 2.3378e-05 1.0 5.67e+03 1.0 0.0e+00 0.0e+00 0.0e+00  0 20  0  0  0   0 20  0  0  0   243\n",
    "VecAYPX               16 1.0 1.1095e-05 1.0 2.59e+03 1.0 0.0e+00 0.0e+00 0.0e+00  0  9  0  0  0   0  9  0  0  0   234\n",
    "MatMult               17 1.0 3.4434e-05 1.0 1.12e+04 1.0 0.0e+00 0.0e+00 0.0e+00  1 40  0  0  0   1 40  0  0  0   324\n",
    "MatAssemblyBegin       2 1.0 1.5110e-06 1.0 0.00e+00 0.0 0.0e+00 0.0e+00 0.0e+00  0  0  0  0  0   0  0  0  0  0     0\n",
    "MatAssemblyEnd         2 1.0 1.8849e-05 1.0 0.00e+00 0.0 0.0e+00 0.0e+00 0.0e+00  0  0  0  0  0   0  0  0  0  0     0\n",
    "KSPSetUp               1 1.0 5.9443e-05 1.0 0.00e+00 0.0 0.0e+00 0.0e+00 0.0e+00  1  0  0  0  0   1  0  0  0  0     0\n",
    "KSPSolve               1 1.0 4.4243e-04 1.0 2.80e+04 1.0 0.0e+00 0.0e+00 0.0e+00  8 99  0  0  0   8 99  0  0  0    63\n",
    "PCSetUp                1 1.0 5.7300e-07 1.0 0.00e+00 0.0 0.0e+00 0.0e+00 0.0e+00  0  0  0  0  0   0  0  0  0  0     0\n",
    "PCApply               18 1.0 2.1939e-05 1.0 0.00e+00 0.0 0.0e+00 0.0e+00 0.0e+00  0  0  0  0  0   0  0  0  0  0     0\n",
    "```\n",
    "\n",
    "Iteration count\n",
    "\n",
    "```\n",
    "Linear solve converged due to CONVERGED_RTOL iterations 17\n",
    "on 9 x 9 grid:  error |u-uexact|_inf = 0.00076388\n",
    "```\n",
    "\n",
    "17 `MatMult` is correct. 36 `VecTDot` is correct, but 35 `VecAXPY` and 16 `VecAYPX`? One less on those then we should have. This makes sense since there are two operations after the `return` statement in Problem 2.8. Those two operations are prepeartion for the next interation so aren't required.\n",
    "\n"
   ]
  },
  {
   "cell_type": "markdown",
   "id": "57ec8ba5-0e85-4130-ae96-8c35fe6aa263",
   "metadata": {},
   "source": [
    "## Problem 6\n",
    "\n",
    "(i) Show that $||\\vec{v}||_A = \\sqrt{\\vec{v}^T A \\vec{v}}$ is a vector norm if $A$ is SPD"
   ]
  },
  {
   "cell_type": "markdown",
   "id": "adf1a27f-9c17-497a-9074-eb7cbd4f87ad",
   "metadata": {},
   "source": [
    "To be a vector norm must satisfy the positivitiy rule, the scaling rule and triangle inequality"
   ]
  },
  {
   "cell_type": "markdown",
   "id": "cf0cc16e-353f-42a7-be47-2e06201ae7c8",
   "metadata": {},
   "source": [
    "positivity is trivial: $||\\vec{0}||_A = \\sqrt{\\vec{0}^T A \\vec{0}}=0$ for any matrix"
   ]
  },
  {
   "cell_type": "markdown",
   "id": "7d7e967b-efb8-410e-a05b-cb36bb2dd3e2",
   "metadata": {},
   "source": [
    "scaling rule also trivial: $||k \\vec{v}||_A = \\sqrt{\\left(k \\vec{v}\\right)^T A \\left( k \\vec{v} \\right)} = |k| ||\\vec{v}||_A $ since \n",
    "$\\left(k \\vec{v}\\right)^T=|k| \\vec{v}^T$. True for any matrix."
   ]
  },
  {
   "cell_type": "markdown",
   "id": "4f7c3ce8-37b4-4cad-a83e-4003311e5c9b",
   "metadata": {},
   "source": [
    "triangle inequality:\n",
    "\n",
    "\\begin{align}\n",
    "||\\vec{u} + \\vec{v}||_A =& \\sqrt{\\left(\\vec{u} + \\vec{v}\\right)^T A \\left(\\vec{u} + \\vec{v}\\right)} \\\\\n",
    "                        =& \\sqrt{\\left(\\vec{u}^T + \\vec{v}^T\\right) A \\left(\\vec{u} + \\vec{v}\\right)} \\\\\n",
    "                        =& \\sqrt{\\vec{u}^T A \\vec{u} + \\vec{v}^T A \\vec{v} + \\vec{u}^T A \\vec{v} + \\vec{v}^T A \\vec{u}} \\\\     \n",
    "                        =& \\sqrt{||\\vec{u}||_A^2 + ||\\vec{v}||_A^2 + 2 \\vec{v}^T A \\vec{u} } \\\\\n",
    "                        \\le &  \\sqrt{||\\vec{u}||_A^2 + ||\\vec{v}||_A^2 + 2 | \\vec{v}^T A \\vec{u} |} \\\\\n",
    "                        \\le & \\sqrt{||\\vec{u}||_A^2 + ||\\vec{v}||_A^2 + 2 ||\\vec{v}||_A ||\\vec{u}||_A } \\;\\; \\text{from Cauchy-Schwarz inequality} \\\\\n",
    "                        =& \\sqrt{\\left(||\\vec{u}||_A^2 + ||\\vec{v}||_A^2\\right)^2  } \\\\ \n",
    "\\end{align}\n"
   ]
  },
  {
   "cell_type": "markdown",
   "id": "e2ae67eb-d960-4359-a645-926734b1f497",
   "metadata": {},
   "source": [
    "(ii) \n",
    "\n",
    "\\begin{align}\n",
    "||v||_A = v^T A v =& v^T \\left(\\sqrt{A} \\right)^2 v \\\\\n",
    "                  =& v^T \\sqrt{A} \\sqrt{A}  v \\\\\n",
    "                  =& \\sqrt{A}^T v \\sqrt{A} v \\\\\n",
    "                  =& \\sqrt{A} v \\sqrt{A} v \\\\\n",
    "                  =& ||\\sqrt{A} v ||_2\n",
    "\\end{align}"
   ]
  },
  {
   "cell_type": "markdown",
   "id": "39e884ec-558b-4761-b05f-75cd3a04a266",
   "metadata": {},
   "source": [
    "Notice that $\\sqrt{A} = S \\Lambda S^{-1} $. Therefore, $A = S \\Lambda^2 S^{-1}$. Likewise for their inverses since, $ \\left(\\sqrt{A}\\right)^{-1} \\left(\\sqrt{A}\\right)^{-1} = A^{-1}$\n",
    "\n",
    "Now we know that $\\kappa_2\\left(\\sqrt{A}\\right) = \\frac{\\max{\\Lambda}}{\\min{\\Lambda}}= \n",
    "\\sqrt{\\left(\\frac{\\max{\\Lambda}}{\\min{\\Lambda}}\\right)^2}=\\sqrt{\\kappa\\left(A\\right)}$ "
   ]
  },
  {
   "cell_type": "markdown",
   "id": "097ea829-b03d-4001-9c7b-bb09ccb1de5e",
   "metadata": {},
   "source": [
    "(iii)\n",
    "\n",
    "\\begin{align}\n",
    "A e =& - r \\\\\n",
    "||A e ||_2 =& ||r||_2 \\\\\n",
    "|| r ||_2 =& || \\sqrt{A} \\sqrt{A} e ||_2 \\\\\n",
    "|| r ||_2 \\le& || \\sqrt{A} ||_2 || e ||_A \\\\\n",
    "\\frac{||r||_2}{|| \\sqrt{A} ||_2} \\le& ||e||_A \n",
    "\\end{align}\n",
    "\n",
    "\\begin{align}\n",
    "e =& - A^{-1} r \\\\\n",
    "||e ||_A =& ||A^{-1} r||_2 \\\\\n",
    "|| e ||_A =& || \\sqrt{A} A^{-1} r ||_2 \\\\\n",
    "|| e ||_A =& || \\sqrt{A}^{-1} r ||_2 \\\\\n",
    "||e||_A \\le& || \\sqrt{A}^{-1} ||_2 ||r||_2 \n",
    "\\end{align}\n",
    "\n"
   ]
  },
  {
   "cell_type": "markdown",
   "id": "7d189c3a-9d33-486c-95ae-ae17c660bf42",
   "metadata": {},
   "source": [
    "(iv) \n",
    "\n",
    "To show this we must show that\n",
    "\n",
    "\\begin{align}\n",
    "\\frac{||r_j||_2}{||r_0||_2} \\le& \\sqrt{\\kappa} \\frac{||e_j||_2}{||e_0||_2} \\\\\n",
    "\\end{align}\n",
    "\n",
    "So,\n",
    "\n",
    "\\begin{align}\n",
    "\\frac{||e_j||_2}{||e_0||_2} \\ge& \\frac{||r_j||_2}{||e_0||_A || \\sqrt{A} ||_2} \\\\\n",
    "\\frac{||e_j||_2}{||e_0||_2} \\ge& \\frac{||r_j||_2}{||r_0||_A || \\sqrt{A} ||_2 || \\sqrt{A}^{-1} ||_2}\n",
    "\\;\\; \\text{using inequalites from above} \\\\\n",
    "\\frac{||e_j||_2}{||e_0||_2} \\ge& \\frac{||r_j||_2}{||r_0||_A \\kappa\\left(\\sqrt{A}\\right) } \\\\\n",
    "\\sqrt{\\kappa} \\frac{||e_j||_2}{||e_0||_2} \\ge& \\frac{||r_j||_2}{||r_0||_A} \\\\\n",
    "\\end{align}"
   ]
  },
  {
   "cell_type": "code",
   "execution_count": null,
   "id": "20dbc80d-689b-4236-ba1c-0999fa6b4355",
   "metadata": {},
   "outputs": [],
   "source": []
  }
 ],
 "metadata": {
  "kernelspec": {
   "display_name": "Python 3 (ipykernel)",
   "language": "python",
   "name": "python3"
  },
  "language_info": {
   "codemirror_mode": {
    "name": "ipython",
    "version": 3
   },
   "file_extension": ".py",
   "mimetype": "text/x-python",
   "name": "python",
   "nbconvert_exporter": "python",
   "pygments_lexer": "ipython3",
   "version": "3.10.14"
  }
 },
 "nbformat": 4,
 "nbformat_minor": 5
}
