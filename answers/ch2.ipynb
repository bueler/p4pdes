{
 "cells": [
  {
   "cell_type": "markdown",
   "id": "cc4bdee6-1db4-4364-a4c7-5bcb5c4bee36",
   "metadata": {},
   "source": [
    "## 2.11\n",
    "\n",
    "Find the fixed point for $q_{k + 1} = 1 + (1 - x) q_k$. At the fixed point\n",
    "\n",
    "$ q_{\\infty} = 1 + (1 - x) q_{\\infty}$\n",
    "\n",
    "Rearrange to get\n",
    "\n",
    "$ q_{\\infty} = \\frac{1}{x} $\n",
    "\n",
    "Second part\n",
    "\n",
    "$ Q_k = q_k ( 1 - y ) $\n",
    "\n",
    "$ \\implies Q_{k + 1} = 1 + (1 - (1 - y)) q_{k} (1 - y) $\n",
    "\n",
    "$ \\implies Q_{k + 1} = 1 + y Q_k $\n",
    "\n",
    "Show the series\n",
    "\n",
    "$ Q_1 = 1 + y$ whern $Q_0 = 1$\n",
    "\n",
    "$ Q_2 = 1 + y + y^2 $ \n",
    "\n",
    "Assume\n",
    "\n",
    "$ Q_k = \\sum_{i=0}^{k}{y^i} $\n",
    "\n",
    "Then $Q_{k+1} = 1 + y Q_k = \\sum_{i=0}^{k + 1}{y^i}$\n",
    "\n",
    "by indicution we have the series. Now by doing the standard error analysis, we have\n",
    "\n",
    "$e_k = y^k e_0$\n",
    "\n",
    "where $e_k = Q_k - Q_{\\infty}$. Clearly $|y| < 1$ to converge."
   ]
  },
  {
   "cell_type": "markdown",
   "id": "12479048-9d46-419e-af12-543583923ac4",
   "metadata": {},
   "source": [
    "## 2.12\n",
    "\n",
    "Same gain as before, subtract $u_{\\infty}$ from both sides \n",
    "\n",
    "$ u_{k+1} = u_k + p(A) (b - A u_k) $\n",
    "\n",
    "$ \\implies u_{k + 1} - u_{\\infty} = u_k - u_{\\infty} + p(A) (b - A u_k) $\n",
    "\n",
    "$ \\implies e_{k + 1} = u_k - \\left[ u_{\\infty} + p (b - A u_{\\infty}) \\right] + p(A) (b - A u_k) $\n",
    "\n",
    "$ \\implies e_{k + 1} = e_k ( 1- p(A) A) $\n",
    "\n",
    "$ \\implies e_{k + 1} = q_k e_k $\n",
    "\n",
    "using the definition give in the text for $q$ "
   ]
  },
  {
   "cell_type": "code",
   "execution_count": 7,
   "id": "9f78799c-26de-4a01-a4d6-057ae8fed0c3",
   "metadata": {},
   "outputs": [],
   "source": [
    "import numpy as np"
   ]
  },
  {
   "cell_type": "code",
   "execution_count": 2,
   "id": "37a19c7e-d244-420b-8cad-4aefdfee63c0",
   "metadata": {},
   "outputs": [],
   "source": [
    "A = numpy.array([[1, 2, 3, 0], [2, 1, -2, -3], [-1, 1, 1, 0], [0, 1, 1, -1]], dtype=float)\n",
    "b = numpy.array([7, 1, 1, 3], dtype=float)"
   ]
  },
  {
   "cell_type": "code",
   "execution_count": 3,
   "id": "569ffcff-6030-4233-afae-242dac1435f6",
   "metadata": {},
   "outputs": [
    {
     "data": {
      "text/plain": [
       "array([ 1.,  0.,  2., -1.])"
      ]
     },
     "execution_count": 3,
     "metadata": {},
     "output_type": "execute_result"
    }
   ],
   "source": [
    "numpy.linalg.inv(A).dot(b)"
   ]
  },
  {
   "cell_type": "markdown",
   "id": "1fead1ce-f668-4eda-bcd1-91e12f401123",
   "metadata": {},
   "source": [
    "## 2.13\n",
    "\n",
    "```\n",
    "16d15\n",
    "<     PetscMPIInt rank;\n",
    "20,21d18\n",
    "<     PetscCall(MPI_Comm_rank(PETSC_COMM_WORLD,&rank));\n",
    "< \n",
    "25,29c22\n",
    "< \n",
    "<     if (rank == 0) {\n",
    "<       PetscCall(VecSetValues(b,4,j,ab,INSERT_VALUES));\n",
    "<     }\n",
    "< \n",
    "---\n",
    ">     PetscCall(VecSetValues(b,4,j,ab,INSERT_VALUES));\n",
    "31a25\n",
    "> \n",
    "36,38c30\n",
    "< \n",
    "<     if (rank == 0) {\n",
    "<       for (i=0; i<4; i++) {   // set entries one row at a time\n",
    "---\n",
    ">     for (i=0; i<4; i++) {   // set entries one row at a time\n",
    "40d31\n",
    "<       }\n",
    "\n",
    "```\n",
    "\n",
    "Works in parallel and in serial\n",
    "\n",
    "```\n",
    "$ mpiexec -n 2 ./vmkrankzero                                                                                                                         \n",
    "Vec Object: 2 MPI processes \n",
    "  type: mpi               \n",
    "Process [0]               \n",
    "1.                         \n",
    "-7.77156e-16                    \n",
    "Process [1]\n",
    "2.\n",
    "-1.                                    \n",
    "```\n"
   ]
  },
  {
   "cell_type": "markdown",
   "id": "b5c0388f-8a23-4901-b4bc-a3076faf3883",
   "metadata": {},
   "source": [
    "## 2.14\n",
    "\n",
    "yes, it does diverge even with 4x4, `./tri -tri_m 4 -ksp_monitor -ksp_type richardson -pc_type none` for example"
   ]
  },
  {
   "cell_type": "markdown",
   "id": "703b8d0e-255c-4665-81c0-124df8767448",
   "metadata": {},
   "source": [
    "## 2.15\n",
    "\n",
    "It gets larger only very slowly for cholesky\n",
    "\n",
    "|  Size  | error |\n",
    "|--------|-------|\n",
    "| 4      | 6.7e-16 |\n",
    "| 100    | 3.2e-15 |\n",
    "| 1000   | 7.5e-15 |\n",
    "| 5000   | 1.8e-14  |\n",
    "| 100000 | 8.6e-14 |\n",
    "| 1000000 | 2.6e-13 |\n",
    "\n",
    "In theory the error shouldn't get that much worse with direct methods. In practice there is some accumulation of round off errror. "
   ]
  },
  {
   "cell_type": "markdown",
   "id": "c0f3e22c-6c45-4e08-9117-adcf2be769d0",
   "metadata": {},
   "source": [
    "## 2.16"
   ]
  },
  {
   "cell_type": "code",
   "execution_count": 80,
   "id": "2f392f27-76e2-4758-abd2-8e43aea82353",
   "metadata": {},
   "outputs": [],
   "source": [
    "def gauss(aij, b):\n",
    "    aij = aij.copy()\n",
    "    b = b.copy()\n",
    "    n = len(aij)\n",
    "    for i in range(1, n):\n",
    "        ratio = aij[i, i - 1] / aij[i - 1, i - 1]\n",
    "        for j in range(2):\n",
    "            aij[i, i + j - 1] = aij[i, i + j - 1] - aij[i - 1, i + j - 1] * ratio\n",
    "        b[i] = b[i] - b[i - 1] * ratio\n",
    "\n",
    "    x = np.zeros(n, dtype=float)\n",
    "    x[n - 1] = b[n - 1] / aij[n - 1, n - 1]\n",
    "    for i in range(n - 1)[::-1]:\n",
    "        x[i] = (b[i] - x[i + 1] * aij[i, i + 1]) / aij[i , i]\n",
    "    return x"
   ]
  },
  {
   "cell_type": "code",
   "execution_count": 81,
   "id": "36d95efa-6da6-402a-91e8-86081c251ef8",
   "metadata": {},
   "outputs": [],
   "source": [
    "def generate(n):\n",
    "    a = np.random.random(n)\n",
    "    b = np.random.random(n - 1)\n",
    "    c = np.random.random(n - 1)\n",
    "    return (np.diag(a, 0) + np.diag(b, -1) + np.diag(c, 1), np.random.random(n))"
   ]
  },
  {
   "cell_type": "code",
   "execution_count": 87,
   "id": "89fa0e85-15a6-4d7e-9706-32f401933fec",
   "metadata": {},
   "outputs": [],
   "source": [
    "def error(aij, x, b):\n",
    "    return np.linalg.norm(np.dot(aij, x) - b, ord=2)"
   ]
  },
  {
   "cell_type": "code",
   "execution_count": 92,
   "id": "263c9dd2-ac69-4b15-a57a-40ddb0f664ab",
   "metadata": {},
   "outputs": [],
   "source": [
    "aij, b = generate(10)"
   ]
  },
  {
   "cell_type": "code",
   "execution_count": 94,
   "id": "38bb5807-babd-4372-aeb3-dff7bf9d7309",
   "metadata": {},
   "outputs": [],
   "source": [
    "x = gauss(aij, b)"
   ]
  },
  {
   "cell_type": "code",
   "execution_count": 95,
   "id": "b4302240-f585-4b1e-b0eb-dce3d7ded64e",
   "metadata": {},
   "outputs": [
    {
     "data": {
      "text/plain": [
       "5.900916318210353e-16"
      ]
     },
     "execution_count": 95,
     "metadata": {},
     "output_type": "execute_result"
    }
   ],
   "source": [
    "error(aij, x, b)"
   ]
  },
  {
   "cell_type": "markdown",
   "id": "fbe7c601-8786-4c91-b269-3f684dd7f075",
   "metadata": {},
   "source": [
    "From the above algorithm the flop count is\n",
    "\n",
    " - N - 1 divides\n",
    " - (N - 1) * 2 subs\n",
    " - (N - 1) * 2 muls\n",
    " - N subs\n",
    " - N muls\n",
    " - 1 div\n",
    " - N - 1 divs\n",
    " - N - 1 subs\n",
    " - N - 1 muls\n",
    "\n",
    "This seems to give\n",
    "\n",
    "10 * N - 7 ????"
   ]
  },
  {
   "cell_type": "markdown",
   "id": "6245f4ad-627a-40b5-a5c6-17b37213889e",
   "metadata": {},
   "source": [
    "## 2.17\n",
    "\n",
    "GMRES solves tridiagonal in one shot\n",
    "\n",
    "`./tri -tri_m 10000 -ksp_monitor -ksp_type gmres`\n",
    "\n",
    "For toeplitz + tridiagonal the formula for eigenvalues is\n",
    "\n",
    "$a + 2 \\sqrt(b c) \\cos \\left( \\frac{ k \\pi }{n  + 1} \\right) $\n",
    "\n",
    "It's spot on for `N = 10`. For higher values of N it's giving a subset and it's not as accurate?\n",
    "The maximum and minimum eigenvalues are bounded by 5 and 1 which is quite a small ratio so condition number is good"
   ]
  },
  {
   "cell_type": "code",
   "execution_count": 100,
   "id": "3b16fcac-893d-47ab-b413-43631b03eeff",
   "metadata": {},
   "outputs": [],
   "source": [
    "n = 100\n",
    "a, b, c = 3.0, -1.0, -1.0\n",
    "k = np.arange(n) + 1\n",
    "eigen = a + 2 * np.sqrt(b * c) * np.cos( k * np.pi / (n + 1)) "
   ]
  },
  {
   "cell_type": "code",
   "execution_count": 101,
   "id": "10e08d55-6b35-4faa-ae30-e2feda866307",
   "metadata": {},
   "outputs": [
    {
     "data": {
      "text/plain": [
       "array([4.99903256, 4.99613119, 4.9912987 , 4.98453974, 4.97586088,\n",
       "       4.9652705 , 4.95277884, 4.938398  , 4.92214188, 4.90402622,\n",
       "       4.88406853, 4.86228812, 4.83870608, 4.8133452 , 4.78623003,\n",
       "       4.7573868 , 4.72684341, 4.69462941, 4.66077597, 4.62531583,\n",
       "       4.5882833 , 4.54971421, 4.50964588, 4.46811706, 4.42516793,\n",
       "       4.38084004, 4.33517628, 4.28822082, 4.24001909, 4.19061773,\n",
       "       4.14006452, 4.08840837, 4.03569925, 3.98198816, 3.92732706,\n",
       "       3.87176884, 3.81536723, 3.75817681, 3.7002529 , 3.64165154,\n",
       "       3.58242942, 3.52264385, 3.46235264, 3.40161415, 3.34048711,\n",
       "       3.27903068, 3.2173043 , 3.15536769, 3.09328078, 3.03110362,\n",
       "       2.96889638, 2.90671922, 2.84463231, 2.7826957 , 2.72096932,\n",
       "       2.65951289, 2.59838585, 2.53764736, 2.47735615, 2.41757058,\n",
       "       2.35834846, 2.2997471 , 2.24182319, 2.18463277, 2.12823116,\n",
       "       2.07267294, 2.01801184, 1.96430075, 1.91159163, 1.85993548,\n",
       "       1.80938227, 1.75998091, 1.71177918, 1.66482372, 1.61915996,\n",
       "       1.57483207, 1.53188294, 1.49035412, 1.45028579, 1.4117167 ,\n",
       "       1.37468417, 1.33922403, 1.30537059, 1.27315659, 1.2426132 ,\n",
       "       1.21376997, 1.1866548 , 1.16129392, 1.13771188, 1.11593147,\n",
       "       1.09597378, 1.07785812, 1.061602  , 1.04722116, 1.0347295 ,\n",
       "       1.02413912, 1.01546026, 1.0087013 , 1.00386881, 1.00096744])"
      ]
     },
     "execution_count": 101,
     "metadata": {},
     "output_type": "execute_result"
    }
   ],
   "source": [
    "eigen"
   ]
  },
  {
   "cell_type": "markdown",
   "id": "0669ef01-bd0f-4911-802c-d2e202771e61",
   "metadata": {},
   "source": [
    "## 2.18\n",
    "\n",
    " - LU doesn't work in parallel\n",
    " - neither does cholesky\n",
    " - ilu doesn't work in parallel\n",
    " - gmres:bjacobi+ilu on one process works for me, maybe I have a lot of memory on my laptop. Alos, the real time was 28s and the sys time was 1.743 so might be very inefficient on one process\n",
    " - icc obviously isn't parallel capable\n",
    " - no need to run bjacobi+icc as icc works alone on a single process"
   ]
  },
  {
   "cell_type": "markdown",
   "id": "4a1c8a0d-782c-4b94-9ef8-eae16800c357",
   "metadata": {},
   "source": [
    "## 2.19\n",
    "\n",
    "|  KSP | PC |  P=1  | P=4 |\n",
    "|------|----|-------|-----|\n",
    "| preonly | lu | 1 |   |\n",
    "|         | cholesky | 1 |   |\n",
    "| richardson | jacobi | 56 |  56 |\n",
    "| gmres | none | 17 | 17 |\n",
    "|       | jacobi | 17 | 17 |\n",
    "\n"
   ]
  },
  {
   "cell_type": "markdown",
   "id": "070b5cdf-323d-4d18-9df8-904765b92aec",
   "metadata": {},
   "source": [
    "## 2.20\n",
    "\n",
    "This just gave an error"
   ]
  },
  {
   "cell_type": "markdown",
   "id": "c520bb31-ca14-42f8-85da-2550ec68175c",
   "metadata": {},
   "source": [
    "## 2.21\n",
    "\n",
    "Made the following diff to make this work\n",
    "\n",
    "```\n",
    "diff --git a/c/ch2/tri.c b/c/ch2/tri.c\n",
    "index 570d18e..97a7031 100644\n",
    "--- a/c/ch2/tri.c\n",
    "+++ b/c/ch2/tri.c\n",
    "@@ -45,12 +45,14 @@ int main(int argc,char **args) {\n",
    "         }\n",
    "         xval = PetscExpReal(PetscCosReal((double)i));\n",
    "         PetscCall(VecSetValues(xexact,1,&i,&xval,INSERT_VALUES));\n",
    "+        xval = 0.0;\n",
    "+        PetscCall(VecSetValues(b,1,&i,&xval,INSERT_VALUES));\n",
    "     }\n",
    "     PetscCall(MatAssemblyBegin(A,MAT_FINAL_ASSEMBLY));\n",
    "     PetscCall(MatAssemblyEnd(A,MAT_FINAL_ASSEMBLY));\n",
    "     PetscCall(VecAssemblyBegin(xexact));\n",
    "     PetscCall(VecAssemblyEnd(xexact));\n",
    "-    PetscCall(MatMult(A,xexact,b));\n",
    "+    //    PetscCall(MatMult(A,xexact,b));\n",
    " \n",
    "     PetscCall(KSPCreate(PETSC_COMM_WORLD,&ksp));\n",
    "     PetscCall(KSPSetOperators(ksp,A,A));\n",
    "\n",
    "\n",
    "```"
   ]
  },
  {
   "cell_type": "markdown",
   "id": "7c40db7b-61b2-408c-a098-c365119dbc3e",
   "metadata": {},
   "source": [
    "## 2.22\n",
    "\n",
    "Don't have valgrind installed"
   ]
  },
  {
   "cell_type": "code",
   "execution_count": null,
   "id": "1e729c0e-4dcf-46d4-aefd-f98d906bcd43",
   "metadata": {},
   "outputs": [],
   "source": []
  }
 ],
 "metadata": {
  "kernelspec": {
   "display_name": "Python 3 (ipykernel)",
   "language": "python",
   "name": "python3"
  },
  "language_info": {
   "codemirror_mode": {
    "name": "ipython",
    "version": 3
   },
   "file_extension": ".py",
   "mimetype": "text/x-python",
   "name": "python",
   "nbconvert_exporter": "python",
   "pygments_lexer": "ipython3",
   "version": "3.10.14"
  }
 },
 "nbformat": 4,
 "nbformat_minor": 5
}
